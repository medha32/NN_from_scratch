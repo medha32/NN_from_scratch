{
  "nbformat": 4,
  "nbformat_minor": 0,
  "metadata": {
    "colab": {
      "provenance": [],
      "authorship_tag": "ABX9TyNu4QuTGYtY0YIHvIcElnzn",
      "include_colab_link": true
    },
    "kernelspec": {
      "name": "python3",
      "display_name": "Python 3"
    },
    "language_info": {
      "name": "python"
    }
  },
  "cells": [
    {
      "cell_type": "markdown",
      "metadata": {
        "id": "view-in-github",
        "colab_type": "text"
      },
      "source": [
        "<a href=\"https://colab.research.google.com/github/medha32/NN_from_scratch/blob/main/NN_from_scratch.ipynb\" target=\"_parent\"><img src=\"https://colab.research.google.com/assets/colab-badge.svg\" alt=\"Open In Colab\"/></a>"
      ]
    },
    {
      "cell_type": "markdown",
      "source": [
        "#**First neural with 3 inputs(without any layer)**"
      ],
      "metadata": {
        "id": "F8OSCKyUZgMf"
      }
    },
    {
      "cell_type": "code",
      "execution_count": 1,
      "metadata": {
        "colab": {
          "base_uri": "https://localhost:8080/"
        },
        "id": "OLGjWtQFUzRz",
        "outputId": "2eca7908-8722-436c-cc4c-8d800ba192b2"
      },
      "outputs": [
        {
          "output_type": "stream",
          "name": "stdout",
          "text": [
            "2.3\n"
          ]
        }
      ],
      "source": [
        "inputs =[1,2,3]\n",
        "weights = [0.2,0.8,-0.5]\n",
        "bias = 2\n",
        "outputs = (inputs[0]*weights[0] + inputs[1]*weights[1] + inputs[2]*weights[2] + bias)\n",
        "print(outputs)"
      ]
    },
    {
      "cell_type": "markdown",
      "source": [
        "#**First neural with 4 inputs(without any layer)**"
      ],
      "metadata": {
        "id": "FRAmM5eoaDpI"
      }
    },
    {
      "cell_type": "code",
      "source": [
        "inputs =[1,2,3,4]\n",
        "weights = [0.2,0.8,-0.5,0.4]\n",
        "bias = 5\n",
        "outputs = (inputs[0]*weights[0] + inputs[1]*weights[1] + inputs[2]*weights[2] + inputs[3]*weights[3] + bias)\n",
        "print(outputs)"
      ],
      "metadata": {
        "colab": {
          "base_uri": "https://localhost:8080/"
        },
        "id": "haentmPAaCXO",
        "outputId": "dd97b681-cd8c-4db7-b715-c713b02e76a2"
      },
      "execution_count": 2,
      "outputs": [
        {
          "output_type": "stream",
          "name": "stdout",
          "text": [
            "6.9\n"
          ]
        }
      ]
    },
    {
      "cell_type": "markdown",
      "source": [
        "#**neural with 1 layer , 4 inputs**"
      ],
      "metadata": {
        "id": "focJ0hZxaZfy"
      }
    },
    {
      "cell_type": "code",
      "source": [
        "inputs =[1,2,3,4] #x0,x1,x2,x3\n",
        "weights = [[0.2,0.8,-0.5,0.4], #w11,w12,w13,14 or #w0\n",
        "           [0.5,-0.91,0.26,-0.5],#w21,w22,w23,w24 or w1\n",
        "           [-0.26,-0.27,0.17,0.87]]#w31,32,33,34 or w2\n",
        "\n",
        "weights1 = weights[0]\n",
        "weights2 = weights[1]\n",
        "weights3 = weights[2]\n",
        "\n",
        "bias = [2,3,4] #b1,b2,b3\n",
        "\n",
        "bias1 = 2\n",
        "bias2 = 3\n",
        "bias3 = 4\n",
        "\n",
        "outputs = [\n",
        " # Neuron 1:\n",
        " inputs[0]*weights1[0] +\n",
        " inputs[1]*weights1[1] +\n",
        " inputs[2]*weights1[2] +\n",
        " inputs[3]*weights1[3] + bias1,\n",
        " # Neuron 2:\n",
        " inputs[0]*weights2[0] +\n",
        " inputs[1]*weights2[1] +\n",
        " inputs[2]*weights2[2] +\n",
        " inputs[3]*weights2[3] + bias2,\n",
        " # Neuron 3:\n",
        " inputs[0]*weights3[0] +\n",
        " inputs[1]*weights3[1] +\n",
        " inputs[2]*weights3[2] +\n",
        " inputs[3]*weights3[3] + bias3]\n",
        "\n",
        "print(outputs)\n"
      ],
      "metadata": {
        "colab": {
          "base_uri": "https://localhost:8080/"
        },
        "id": "IxmRINMjaZOq",
        "outputId": "7d26491c-23b2-42d3-cc1d-a16335c6c3f4"
      },
      "execution_count": 3,
      "outputs": [
        {
          "output_type": "stream",
          "name": "stdout",
          "text": [
            "[3.9000000000000004, 0.45999999999999996, 7.1899999999999995]\n"
          ]
        }
      ]
    },
    {
      "cell_type": "markdown",
      "source": [
        "#**Using Loop**"
      ],
      "metadata": {
        "id": "YTL4BZWRcorj"
      }
    },
    {
      "cell_type": "code",
      "source": [
        "inputs = [1, 2, 3, 2.5]\n",
        "\n",
        "##LIST OF WEIGHTS\n",
        "weights = [[0.2, 0.8, -0.5, 1],\n",
        " [0.5, -0.91, 0.26, -0.5],\n",
        " [-0.26, -0.27, 0.17, 0.87]]\n",
        "\n",
        "##LIST OF BIASES\n",
        "biases = [2, 3, 0.5]\n",
        "\n",
        "# Output of current layer\n",
        "layer_outputs = []\n",
        "\n",
        "# For each neuron\n",
        "for neuron_weights, neuron_bias in zip(weights, biases):\n",
        " # Zeroed output of given neuron\n",
        " neuron_output = 0\n",
        " # For each input and weight to the neuron\n",
        " for n_input, weight in zip(inputs, neuron_weights):\n",
        " # Multiply this input by associated weight\n",
        " # and add to the neuron's output variable\n",
        "   neuron_output += n_input*weight ## W31*X1 + W32*X2 + W33*X3 + W34*X4\n",
        "   # Add bias\n",
        " neuron_output += neuron_bias ## ## W31*X1 + W32*X2 + W33*X3 + W34*X4 + B3\n",
        " # Put neuron's result to the layer's output list\n",
        " layer_outputs.append(neuron_output)\n",
        "print(layer_outputs)"
      ],
      "metadata": {
        "colab": {
          "base_uri": "https://localhost:8080/"
        },
        "id": "r5GC_ddpcq3n",
        "outputId": "9c7f3083-13f0-4a3e-fed2-9c1436d407a1"
      },
      "execution_count": 4,
      "outputs": [
        {
          "output_type": "stream",
          "name": "stdout",
          "text": [
            "[4.8, 1.21, 2.385]\n"
          ]
        }
      ]
    },
    {
      "cell_type": "markdown",
      "source": [
        "# **SINGLE NEURON USING NUMPY**"
      ],
      "metadata": {
        "id": "9WQnGY3692y3"
      }
    },
    {
      "cell_type": "code",
      "source": [
        "import numpy as np\n",
        "\n",
        "inputs = [1.0, 2.0, 3.0, 2.5]\n",
        "weights = [0.2, 0.8, -0.5, 1.0]\n",
        "bias = 2.0\n",
        "\n",
        "# Convert lists to numpy arrays\n",
        "inputs_array = np.array(inputs)\n",
        "weights_array = np.array(weights)\n",
        "\n",
        "# Calculate the dot product and add the bias\n",
        "outputs = np.dot(weights_array, inputs_array) + bias\n",
        "\n",
        "print(outputs)"
      ],
      "metadata": {
        "colab": {
          "base_uri": "https://localhost:8080/"
        },
        "id": "U-9zwY4j92bH",
        "outputId": "d4025d6e-09d9-4013-ba0b-ce6fc669b6b7"
      },
      "execution_count": 1,
      "outputs": [
        {
          "output_type": "stream",
          "name": "stdout",
          "text": [
            "4.8\n"
          ]
        }
      ]
    },
    {
      "cell_type": "markdown",
      "source": [
        "# **In plain Python, we wrote this as a list of lists. With NumPy, this will be a 2-dimensional array, which we’ll call a matrix**"
      ],
      "metadata": {
        "id": "oMxVnC6n9_qz"
      }
    },
    {
      "cell_type": "code",
      "source": [
        "import numpy as np\n",
        "\n",
        "inputs = [1.0, 2.0, 3.0, 2.5]\n",
        "weights = [[0.2, 0.8, -0.5, 1],\n",
        "           [0.5, -0.91, 0.26, -0.5],\n",
        "           [-0.26, -0.27, 0.17, 0.87]]\n",
        "biases = [2.0, 3.0, 0.5]\n",
        "\n",
        "# Convert lists to numpy arrays\n",
        "inputs_array = np.array(inputs)\n",
        "weights_array = np.array(weights)\n",
        "biases_array = np.array(biases)\n",
        "\n",
        "# Calculate the dot product and add the biases\n",
        "layer_outputs = np.dot(weights_array, inputs_array) + biases_array\n",
        "print(layer_outputs)"
      ],
      "metadata": {
        "colab": {
          "base_uri": "https://localhost:8080/"
        },
        "id": "CdtiXnev-EpY",
        "outputId": "07e205ec-a1c7-4193-bbe7-66ebe3e54059"
      },
      "execution_count": 2,
      "outputs": [
        {
          "output_type": "stream",
          "name": "stdout",
          "text": [
            "[4.8   1.21  2.385]\n"
          ]
        }
      ]
    },
    {
      "cell_type": "markdown",
      "source": [
        "#**LAYER OF NEURONS AND BATCH OF DATA USING NUMPY**"
      ],
      "metadata": {
        "id": "n3yjNDUD-SKo"
      }
    },
    {
      "cell_type": "code",
      "source": [
        "import numpy as np\n",
        "\n",
        "inputs = [[1.0, 2.0, 3.0, 2.5],\n",
        "          [2.0, 5.0, -1.0, 2.0],\n",
        "          [-1.5, 2.7, 3.3, -0.8]]\n",
        "weights = [[0.2, 0.8, -0.5, 1],\n",
        "           [0.5, -0.91, 0.26, -0.5],\n",
        "           [-0.26, -0.27, 0.17, 0.87]]\n",
        "biases = [2.0, 3.0, 0.5]\n",
        "\n",
        "# Convert lists to numpy arrays\n",
        "inputs_array = np.array(inputs)\n",
        "weights_array = np.array(weights)\n",
        "biases_array = np.array(biases)\n",
        "\n",
        "# Calculate the dot product and add the biases\n",
        "outputs = np.dot(inputs_array, weights_array.T) + biases_array #NEED TO TAKE TRANSPOSE OF WEIGHT MATRIX\n",
        "print(outputs)\n"
      ],
      "metadata": {
        "colab": {
          "base_uri": "https://localhost:8080/"
        },
        "id": "RqMgtpnE-WON",
        "outputId": "645de9a2-019e-4b79-b08c-39c129ef09e2"
      },
      "execution_count": 3,
      "outputs": [
        {
          "output_type": "stream",
          "name": "stdout",
          "text": [
            "[[ 4.8    1.21   2.385]\n",
            " [ 8.9   -1.81   0.2  ]\n",
            " [ 1.41   1.051  0.026]]\n"
          ]
        }
      ]
    },
    {
      "cell_type": "markdown",
      "source": [
        "#**2 LAYERS AND BATCH OF DATA USING NUMPY**"
      ],
      "metadata": {
        "id": "S-RN843w_Sqw"
      }
    },
    {
      "cell_type": "code",
      "source": [
        "import numpy as np\n",
        "\n",
        "inputs = [[1, 2, 3, 2.5],\n",
        "          [2., 5., -1., 2],\n",
        "          [-1.5, 2.7, 3.3, -0.8]]\n",
        "\n",
        "weights = [[0.2, 0.8, -0.5, 1],\n",
        "           [0.5, -0.91, 0.26, -0.5],\n",
        "           [-0.26, -0.27, 0.17, 0.87]]\n",
        "\n",
        "biases = [2, 3, 0.5]\n",
        "\n",
        "weights2 = [[0.1, -0.14, 0.5],\n",
        "            [-0.5, 0.12, -0.33],\n",
        "            [-0.44, 0.73, -0.13]]\n",
        "\n",
        "biases2 = [-1, 2, -0.5]\n",
        "\n",
        "# Convert lists to numpy arrays\n",
        "inputs_array = np.array(inputs)\n",
        "weights_array = np.array(weights)\n",
        "biases_array = np.array(biases)\n",
        "weights2_array = np.array(weights2)\n",
        "biases2_array = np.array(biases2)\n",
        "\n",
        "# Calculate the output of the first layer\n",
        "layer1_outputs = np.dot(inputs_array, weights_array.T) + biases_array\n",
        "\n",
        "# Calculate the output of the second layer\n",
        "layer2_outputs = np.dot(layer1_outputs, weights2_array.T) + biases2_array\n",
        "\n",
        "print(layer2_outputs)\n"
      ],
      "metadata": {
        "colab": {
          "base_uri": "https://localhost:8080/"
        },
        "id": "tFPOd8AJ_ULM",
        "outputId": "676a05d9-1e28-496d-c01c-1277fe7cc237"
      },
      "execution_count": 4,
      "outputs": [
        {
          "output_type": "stream",
          "name": "stdout",
          "text": [
            "[[ 0.5031  -1.04185 -2.03875]\n",
            " [ 0.2434  -2.7332  -5.7633 ]\n",
            " [-0.99314  1.41254 -0.35655]]\n"
          ]
        }
      ]
    }
  ]
}